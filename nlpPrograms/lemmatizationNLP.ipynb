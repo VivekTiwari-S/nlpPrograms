{
  "nbformat": 4,
  "nbformat_minor": 0,
  "metadata": {
    "colab": {
      "provenance": []
    },
    "kernelspec": {
      "name": "python3",
      "display_name": "Python 3"
    },
    "language_info": {
      "name": "python"
    }
  },
  "cells": [
    {
      "cell_type": "code",
      "execution_count": 1,
      "metadata": {
        "colab": {
          "base_uri": "https://localhost:8080/"
        },
        "id": "6eNXZJ_SX1gY",
        "outputId": "8e767cfc-8ef0-422b-d898-0753c05d4366"
      },
      "outputs": [
        {
          "output_type": "stream",
          "name": "stderr",
          "text": [
            "[nltk_data] Downloading package punkt to /root/nltk_data...\n",
            "[nltk_data]   Unzipping tokenizers/punkt.zip.\n",
            "[nltk_data] Downloading package wordnet to /root/nltk_data...\n"
          ]
        },
        {
          "output_type": "execute_result",
          "data": {
            "text/plain": [
              "True"
            ]
          },
          "metadata": {},
          "execution_count": 1
        }
      ],
      "source": [
        "import nltk\n",
        "from nltk.stem import WordNetLemmatizer\n",
        "from nltk.tokenize import word_tokenize\n",
        "\n",
        "nltk.download('punkt')\n",
        "nltk.download('wordnet')"
      ]
    },
    {
      "cell_type": "code",
      "source": [
        "lemObj = WordNetLemmatizer()"
      ],
      "metadata": {
        "id": "fDAWLIMFYJpm"
      },
      "execution_count": 2,
      "outputs": []
    },
    {
      "cell_type": "code",
      "source": [
        "inputText = \"\"\"I am running a business that is earning me rupees 1 lac a month\"\"\""
      ],
      "metadata": {
        "id": "ZH8xRoNjYUlE"
      },
      "execution_count": 3,
      "outputs": []
    },
    {
      "cell_type": "code",
      "source": [
        "words = word_tokenize(inputText)"
      ],
      "metadata": {
        "id": "7FE766vTYd6s"
      },
      "execution_count": 4,
      "outputs": []
    },
    {
      "cell_type": "code",
      "source": [
        "lemWords = [lemObj.lemmatize(word, pos = 'v') for word in words]\n",
        "\n",
        "print(\"Original words: \", words)\n",
        "print(\"Lemmatized words: \", lemWords)"
      ],
      "metadata": {
        "colab": {
          "base_uri": "https://localhost:8080/"
        },
        "id": "AFrFyxcfYi0M",
        "outputId": "0631d3d9-3751-4301-d9d6-1b27fbfa00e5"
      },
      "execution_count": 6,
      "outputs": [
        {
          "output_type": "stream",
          "name": "stdout",
          "text": [
            "Original words:  ['I', 'am', 'running', 'a', 'business', 'that', 'is', 'earning', 'me', 'rupees', '1', 'lac', 'a', 'month']\n",
            "Lemmatized words:  ['I', 'be', 'run', 'a', 'business', 'that', 'be', 'earn', 'me', 'rupees', '1', 'lac', 'a', 'month']\n"
          ]
        }
      ]
    }
  ]
}