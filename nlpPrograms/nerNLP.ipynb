{
  "nbformat": 4,
  "nbformat_minor": 0,
  "metadata": {
    "colab": {
      "provenance": []
    },
    "kernelspec": {
      "name": "python3",
      "display_name": "Python 3"
    },
    "language_info": {
      "name": "python"
    }
  },
  "cells": [
    {
      "cell_type": "code",
      "execution_count": 1,
      "metadata": {
        "id": "zhJzcf8_sF1r"
      },
      "outputs": [],
      "source": [
        "import nltk\n",
        "from nltk.tokenize import word_tokenize\n",
        "from nltk import ne_chunk"
      ]
    },
    {
      "cell_type": "code",
      "source": [
        "nltk.download('punkt')\n",
        "nltk.download('words')\n",
        "nltk.download('maxent_ne_chunker')\n",
        "nltk.download('averaged_perceptron_tagger')"
      ],
      "metadata": {
        "colab": {
          "base_uri": "https://localhost:8080/"
        },
        "id": "yCzW1DzIsS69",
        "outputId": "bf278768-c6df-4e11-aef4-e99365126cce"
      },
      "execution_count": 11,
      "outputs": [
        {
          "output_type": "stream",
          "name": "stderr",
          "text": [
            "[nltk_data] Downloading package punkt to /root/nltk_data...\n",
            "[nltk_data]   Package punkt is already up-to-date!\n",
            "[nltk_data] Downloading package words to /root/nltk_data...\n",
            "[nltk_data]   Unzipping corpora/words.zip.\n",
            "[nltk_data] Downloading package maxent_ne_chunker to\n",
            "[nltk_data]     /root/nltk_data...\n",
            "[nltk_data]   Package maxent_ne_chunker is already up-to-date!\n",
            "[nltk_data] Downloading package averaged_perceptron_tagger to\n",
            "[nltk_data]     /root/nltk_data...\n",
            "[nltk_data]   Package averaged_perceptron_tagger is already up-to-\n",
            "[nltk_data]       date!\n"
          ]
        },
        {
          "output_type": "execute_result",
          "data": {
            "text/plain": [
              "True"
            ]
          },
          "metadata": {},
          "execution_count": 11
        }
      ]
    },
    {
      "cell_type": "code",
      "source": [
        "inputText = \"\"\"My name is Vivek Tiwari. I am 21 year old Computer Engineering student at Institute of Advanced Research, Gandhinagar\"\"\""
      ],
      "metadata": {
        "id": "iAtMZrY4seU7"
      },
      "execution_count": 12,
      "outputs": []
    },
    {
      "cell_type": "code",
      "source": [
        "words = word_tokenize(inputText)"
      ],
      "metadata": {
        "id": "_P2phXyhshuL"
      },
      "execution_count": 13,
      "outputs": []
    },
    {
      "cell_type": "code",
      "source": [
        "pos_tags = nltk.pos_tag(words)"
      ],
      "metadata": {
        "id": "9YnGXGE3slTD"
      },
      "execution_count": 14,
      "outputs": []
    },
    {
      "cell_type": "code",
      "source": [
        "named_entities = nltk.ne_chunk(pos_tags)"
      ],
      "metadata": {
        "id": "T5awdqBksq0K"
      },
      "execution_count": 15,
      "outputs": []
    },
    {
      "cell_type": "code",
      "source": [
        "print('Named entities: ', named_entities)"
      ],
      "metadata": {
        "colab": {
          "base_uri": "https://localhost:8080/"
        },
        "id": "99P7ZoDhs6WJ",
        "outputId": "ad8927f1-954f-446e-a33d-4f451f6ae30c"
      },
      "execution_count": 16,
      "outputs": [
        {
          "output_type": "stream",
          "name": "stdout",
          "text": [
            "Named entities:  (S\n",
            "  My/PRP$\n",
            "  name/NN\n",
            "  is/VBZ\n",
            "  (PERSON Vivek/NNP Tiwari/NNP)\n",
            "  ./.\n",
            "  I/PRP\n",
            "  am/VBP\n",
            "  21/CD\n",
            "  year/NN\n",
            "  old/JJ\n",
            "  (ORGANIZATION Computer/NNP)\n",
            "  Engineering/NNP\n",
            "  student/NN\n",
            "  at/IN\n",
            "  (ORGANIZATION Institute/NNP)\n",
            "  of/IN\n",
            "  (ORGANIZATION Advanced/NNP Research/NNP)\n",
            "  ,/,\n",
            "  (GPE Gandhinagar/NNP))\n"
          ]
        }
      ]
    }
  ]
}