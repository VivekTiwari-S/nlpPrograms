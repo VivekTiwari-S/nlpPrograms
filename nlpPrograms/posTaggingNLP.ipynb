{
  "nbformat": 4,
  "nbformat_minor": 0,
  "metadata": {
    "colab": {
      "provenance": []
    },
    "kernelspec": {
      "name": "python3",
      "display_name": "Python 3"
    },
    "language_info": {
      "name": "python"
    }
  },
  "cells": [
    {
      "cell_type": "code",
      "execution_count": 1,
      "metadata": {
        "colab": {
          "base_uri": "https://localhost:8080/"
        },
        "id": "Wp5WiX57qcTw",
        "outputId": "76ddb0b2-1101-49f0-888b-2c463a8c4fe7"
      },
      "outputs": [
        {
          "output_type": "stream",
          "name": "stderr",
          "text": [
            "[nltk_data] Downloading package punkt to /root/nltk_data...\n",
            "[nltk_data]   Unzipping tokenizers/punkt.zip.\n",
            "[nltk_data] Downloading package averaged_perceptron_tagger to\n",
            "[nltk_data]     /root/nltk_data...\n",
            "[nltk_data]   Unzipping taggers/averaged_perceptron_tagger.zip.\n"
          ]
        },
        {
          "output_type": "execute_result",
          "data": {
            "text/plain": [
              "True"
            ]
          },
          "metadata": {},
          "execution_count": 1
        }
      ],
      "source": [
        "import nltk\n",
        "from nltk.tokenize import word_tokenize\n",
        "\n",
        "nltk.download('punkt')\n",
        "nltk.download('averaged_perceptron_tagger')"
      ]
    },
    {
      "cell_type": "code",
      "source": [
        "inputText = \"\"\"My name is Vivek Tiwari. I am 21 year old Computer Engineering student at Institute of Advanced Research, Gandhinagar\"\"\""
      ],
      "metadata": {
        "id": "5830qK4Yqtqj"
      },
      "execution_count": 2,
      "outputs": []
    },
    {
      "cell_type": "code",
      "source": [
        "words = word_tokenize(inputText)"
      ],
      "metadata": {
        "id": "XyIj0zVwq1SQ"
      },
      "execution_count": 3,
      "outputs": []
    },
    {
      "cell_type": "code",
      "source": [
        "pos_tags = nltk.pos_tag(words)"
      ],
      "metadata": {
        "id": "6mbAGsHsq7ex"
      },
      "execution_count": 4,
      "outputs": []
    },
    {
      "cell_type": "code",
      "source": [
        "print('Words with POS Tags: ', pos_tags)"
      ],
      "metadata": {
        "colab": {
          "base_uri": "https://localhost:8080/"
        },
        "id": "Do7Ko87CrA8w",
        "outputId": "b6f77fad-3fb2-4750-a90c-7983099c4626"
      },
      "execution_count": 5,
      "outputs": [
        {
          "output_type": "stream",
          "name": "stdout",
          "text": [
            "Words with POS Tags:  [('My', 'PRP$'), ('name', 'NN'), ('is', 'VBZ'), ('Vivek', 'NNP'), ('Tiwari', 'NNP'), ('.', '.'), ('I', 'PRP'), ('am', 'VBP'), ('21', 'CD'), ('year', 'NN'), ('old', 'JJ'), ('Computer', 'NNP'), ('Engineering', 'NNP'), ('student', 'NN'), ('at', 'IN'), ('Institute', 'NNP'), ('of', 'IN'), ('Advanced', 'NNP'), ('Research', 'NNP'), (',', ','), ('Gandhinagar', 'NNP')]\n"
          ]
        }
      ]
    }
  ]
}