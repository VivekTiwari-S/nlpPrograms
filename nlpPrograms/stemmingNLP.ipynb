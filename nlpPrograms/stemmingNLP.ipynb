{
  "nbformat": 4,
  "nbformat_minor": 0,
  "metadata": {
    "colab": {
      "provenance": []
    },
    "kernelspec": {
      "name": "python3",
      "display_name": "Python 3"
    },
    "language_info": {
      "name": "python"
    }
  },
  "cells": [
    {
      "cell_type": "code",
      "execution_count": 6,
      "metadata": {
        "colab": {
          "base_uri": "https://localhost:8080/"
        },
        "id": "wTxHwIWWVIg9",
        "outputId": "ec17a815-84c7-471b-8370-1d2cdbafa770"
      },
      "outputs": [
        {
          "output_type": "stream",
          "name": "stderr",
          "text": [
            "[nltk_data] Downloading package punkt to /root/nltk_data...\n",
            "[nltk_data]   Unzipping tokenizers/punkt.zip.\n"
          ]
        }
      ],
      "source": [
        "import nltk\n",
        "nltk.download('punkt')\n",
        "\n",
        "from nltk.stem import PorterStemmer\n",
        "from nltk.tokenize import word_tokenize"
      ]
    },
    {
      "cell_type": "code",
      "source": [
        "stemObj = PorterStemmer()"
      ],
      "metadata": {
        "id": "_npApA7EVVLo"
      },
      "execution_count": 7,
      "outputs": []
    },
    {
      "cell_type": "code",
      "source": [
        "inputText = \"\"\"I am living my life happily and also I am doing my work peacefully\"\"\""
      ],
      "metadata": {
        "id": "vqs3VTuwVhuG"
      },
      "execution_count": 13,
      "outputs": []
    },
    {
      "cell_type": "code",
      "source": [
        "words = word_tokenize(inputText)"
      ],
      "metadata": {
        "id": "p8AVgN7NVn3m"
      },
      "execution_count": 14,
      "outputs": []
    },
    {
      "cell_type": "code",
      "source": [
        "stemWords = [stemObj.stem(word) for word in words]"
      ],
      "metadata": {
        "id": "-w9pWYtSVsPF"
      },
      "execution_count": 15,
      "outputs": []
    },
    {
      "cell_type": "code",
      "source": [
        "print(\"Original words: \", words)\n",
        "print(\"Stemmed words: \", stemWords)"
      ],
      "metadata": {
        "colab": {
          "base_uri": "https://localhost:8080/"
        },
        "id": "C8N8sTmKWFjd",
        "outputId": "79a9051d-b021-4dd5-a767-28ece4956e3f"
      },
      "execution_count": 16,
      "outputs": [
        {
          "output_type": "stream",
          "name": "stdout",
          "text": [
            "Original words:  ['I', 'am', 'living', 'my', 'life', 'happily', 'and', 'also', 'I', 'am', 'doing', 'my', 'work', 'peacefully']\n",
            "Stemmed words:  ['i', 'am', 'live', 'my', 'life', 'happili', 'and', 'also', 'i', 'am', 'do', 'my', 'work', 'peac']\n"
          ]
        }
      ]
    },
    {
      "cell_type": "code",
      "source": [],
      "metadata": {
        "id": "-cyLeTv1WPGs"
      },
      "execution_count": null,
      "outputs": []
    }
  ]
}