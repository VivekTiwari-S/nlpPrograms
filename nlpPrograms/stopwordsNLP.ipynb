{
  "nbformat": 4,
  "nbformat_minor": 0,
  "metadata": {
    "colab": {
      "provenance": []
    },
    "kernelspec": {
      "name": "python3",
      "display_name": "Python 3"
    },
    "language_info": {
      "name": "python"
    }
  },
  "cells": [
    {
      "cell_type": "code",
      "execution_count": 1,
      "metadata": {
        "colab": {
          "base_uri": "https://localhost:8080/"
        },
        "id": "BafYOO-QoXqy",
        "outputId": "62956398-e57a-4164-d203-38450d66583d"
      },
      "outputs": [
        {
          "output_type": "stream",
          "name": "stderr",
          "text": [
            "[nltk_data] Downloading package punkt to /root/nltk_data...\n",
            "[nltk_data]   Unzipping tokenizers/punkt.zip.\n",
            "[nltk_data] Downloading package stopwords to /root/nltk_data...\n",
            "[nltk_data]   Unzipping corpora/stopwords.zip.\n"
          ]
        },
        {
          "output_type": "execute_result",
          "data": {
            "text/plain": [
              "True"
            ]
          },
          "metadata": {},
          "execution_count": 1
        }
      ],
      "source": [
        "import nltk\n",
        "from nltk.corpus import stopwords\n",
        "from nltk.tokenize import word_tokenize\n",
        "\n",
        "nltk.download('punkt')\n",
        "nltk.download('stopwords')"
      ]
    },
    {
      "cell_type": "code",
      "source": [
        "stopwords = set(stopwords.words('english'))"
      ],
      "metadata": {
        "id": "TlUfIxKSox2S"
      },
      "execution_count": 2,
      "outputs": []
    },
    {
      "cell_type": "code",
      "source": [
        "inputText = \"\"\"My name is Vivek Tiwari. I am 21 year old Computer Engineering student at Institute of Advanced Research, Gandhinagar\"\"\""
      ],
      "metadata": {
        "id": "Cjx38QSepSYO"
      },
      "execution_count": 3,
      "outputs": []
    },
    {
      "cell_type": "code",
      "source": [
        "words = word_tokenize(inputText)"
      ],
      "metadata": {
        "id": "YhfmCGojpV0G"
      },
      "execution_count": 4,
      "outputs": []
    },
    {
      "cell_type": "code",
      "source": [
        "clean_words = [word for word in words if word.lower() not in stopwords]"
      ],
      "metadata": {
        "id": "d8-QL4V_paiF"
      },
      "execution_count": 5,
      "outputs": []
    },
    {
      "cell_type": "code",
      "source": [
        "print(\"Original words: \", words)"
      ],
      "metadata": {
        "colab": {
          "base_uri": "https://localhost:8080/"
        },
        "id": "8zz_KvnmpqlM",
        "outputId": "1bfbc053-cdbf-4497-d779-f550bcde9c28"
      },
      "execution_count": 6,
      "outputs": [
        {
          "output_type": "stream",
          "name": "stdout",
          "text": [
            "Original words:  ['My', 'name', 'is', 'Vivek', 'Tiwari', '.', 'I', 'am', '21', 'year', 'old', 'Computer', 'Engineering', 'student', 'at', 'Institute', 'of', 'Advanced', 'Research', ',', 'Gandhinagar']\n"
          ]
        }
      ]
    },
    {
      "cell_type": "code",
      "source": [
        "print(\"Clean words: \", clean_words)"
      ],
      "metadata": {
        "colab": {
          "base_uri": "https://localhost:8080/"
        },
        "id": "UZ8z-sASpu_k",
        "outputId": "1d7be031-7245-4b0e-c96c-fd1851c6528c"
      },
      "execution_count": 7,
      "outputs": [
        {
          "output_type": "stream",
          "name": "stdout",
          "text": [
            "Clean words:  ['name', 'Vivek', 'Tiwari', '.', '21', 'year', 'old', 'Computer', 'Engineering', 'student', 'Institute', 'Advanced', 'Research', ',', 'Gandhinagar']\n"
          ]
        }
      ]
    }
  ]
}